{
 "cells": [
  {
   "cell_type": "markdown",
   "id": "satisfactory-determination",
   "metadata": {},
   "source": [
    "A linear predictors is a linear function (linear combination) of a set of coefficients and explanatory variables (independent variables), whose value is used to predict the outcome of a dependent variable.\n",
    "\n",
    "Many learning algorithms rely on linear predictors. Moreover, linear predictors are intuitive, easy to inerpret and fit the data reasonably well in many natural learning problems\n",
    "\n",
    "Linera predictors are besd on the class of affine functions\n",
    "\n",
    "$$ L_d = \\{\\mathbf x \\mapsto \\langle\\mathbf w, \\mathbf x\\rangle + b:\\mathbf w \\in \\mathbb R^d, b \\in \\mathbb R\\} $$\n",
    "\n",
    "Each function $h_{\\mathbf w,b}$ is parametrized by a vector $\\mathbf w$ that define a linear transformation and a scalar $b$ that define a translation.\n",
    "Usually the term $b$, called *bias* is incorporated into $\\mathbf w$ as an extra coordinate, adding also an extra coordinate with value 1 to all $\\mathbf x \\in \\mathcal X$\n",
    "\n",
    "$$ \\mathbf w' =\\begin{pmatrix}b, w_1, \\ldots, w_d\\end{pmatrix} \\qquad \\mathbf x' = \\begin{pmatrix}1, x_1, \\ldots, x_d\\end{pmatrix}$$"
   ]
  },
  {
   "cell_type": "markdown",
   "id": "attempted-international",
   "metadata": {},
   "source": [
    "## Halfspaces\n",
    "\n",
    "A function $h_{\\mathbf w,b}$ defines an hyperplane in the space $\\mathbb R$ that divide this into two subsapces called *half-spaces*. The hypothesis class of halfspaces is designed for binary classification problems, namely $\\mathcal X=\\mathbb R^d$ and $\\mathcal Y =\\{-1,+1\\}$. The class of half-spaces is defined as follows:\n",
    "\n",
    "$$ HS_d = \\text{sign}\\circ L_d = \\{\\mathbf x \\mapsto \\text{sign}(h_{\\mathbf w,b}(\\mathbf x)) : h_{\\mathbf w,b} \\in L_d\\}$$"
   ]
  },
  {
   "cell_type": "code",
   "execution_count": null,
   "id": "running-texas",
   "metadata": {},
   "outputs": [],
   "source": []
  }
 ],
 "metadata": {
  "kernelspec": {
   "display_name": "Python 3",
   "language": "python",
   "name": "python3"
  },
  "language_info": {
   "codemirror_mode": {
    "name": "ipython",
    "version": 3
   },
   "file_extension": ".py",
   "mimetype": "text/x-python",
   "name": "python",
   "nbconvert_exporter": "python",
   "pygments_lexer": "ipython3",
   "version": "3.9.2"
  }
 },
 "nbformat": 4,
 "nbformat_minor": 5
}
